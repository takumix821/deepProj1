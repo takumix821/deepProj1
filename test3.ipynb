{
 "cells": [
  {
   "cell_type": "code",
   "execution_count": 2,
   "metadata": {},
   "outputs": [
    {
     "data": {
      "text/plain": [
       "(60000, 784)"
      ]
     },
     "execution_count": 2,
     "metadata": {},
     "output_type": "execute_result"
    }
   ],
   "source": [
    "import tensorflow as tf\n",
    "from tensorflow import keras\n",
    "import numpy as np\n",
    "import matplotlib.pyplot as plt\n",
    "import os\n",
    "import random\n",
    "\n",
    "mnist = keras.datasets.mnist\n",
    "\n",
    "(train_images,train_labels),(test_images,test_labels) = mnist.load_data()\n",
    "train_images = train_images / 255.0\n",
    "test_images = test_images / 255.0\n",
    "\n",
    "# input_mat 設定\n",
    "train_size = train_images.shape[0]\n",
    "test_size = test_images.shape[0]\n",
    "input_mat = np.reshape(train_images, (train_size, train_images.shape[1]*train_images.shape[2]))\n",
    "# test_images = np.reshape(test_images, (10000, 784))\n",
    "input_mat.shape"
   ]
  },
  {
   "cell_type": "code",
   "execution_count": 3,
   "metadata": {},
   "outputs": [],
   "source": [
    "# ymat 設定\n",
    "\n",
    "ymat = np.repeat(0, 10*train_size).reshape(train_size, 10)\n",
    "\n",
    "for i in range(train_size):\n",
    "    ymat[i, train_labels[i]] = 1"
   ]
  },
  {
   "cell_type": "code",
   "execution_count": 4,
   "metadata": {},
   "outputs": [
    {
     "name": "stdout",
     "output_type": "stream",
     "text": [
      "t= 278528\n"
     ]
    }
   ],
   "source": [
    "def sigmoid(x):\n",
    "    return 1/(1 + np.exp(-x))\n",
    "\n",
    "random.seed(0)\n",
    "\n",
    "# 參數設定\n",
    "learning_rate = 0.2\n",
    "\n",
    "#input_mat = np.array([[0, 0], [0, 1], [1, 0], [1, 1]]) #\n",
    "#ymat = np.array([[0, 0, 1], [1, 1, 0], [1, 1, 1], [0, 0, 1]]) #\n",
    "\n",
    "n_in = input_mat.shape[1]\n",
    "n_hidden = [20, 20] # 隱藏層兩層 各有?, ?個neuron\n",
    "n_out = ymat.shape[1]\n",
    "\n",
    "# 第1層權重初始值\n",
    "w = np.random.randn(n_hidden[0], n_in)\n",
    "\n",
    "# 第2層權重初始值\n",
    "w2 = np.random.randn(n_hidden[1], n_hidden[0])\n",
    "\n",
    "# 第3層權重初始值\n",
    "w3 = np.random.randn(n_out, n_hidden[1])\n",
    "\n",
    "t = 0\n",
    "output_, y = ymat[0], ymat[0]+1\n",
    "\n",
    "while True:\n",
    "    \n",
    "    input_ = input_mat[t % input_mat.shape[0]]\n",
    "    y = ymat[t % input_mat.shape[0]]\n",
    "\n",
    "    ### 正向傳播\n",
    "\n",
    "    # 計算output\n",
    "    hidden_1 = sigmoid(np.matmul(w, input_))\n",
    "    hidden_2 = sigmoid(np.matmul(w2, hidden_1))\n",
    "    output_ = sigmoid(np.matmul(w3, hidden_2))\n",
    "\n",
    "\n",
    "\n",
    "    ### 誤差反向傳播\n",
    "\n",
    "    # 第3層權重delta計算\n",
    "    delta3 = (y - output_) * output_ * (1 - output_)\n",
    "\n",
    "    # 第2層權重delta計算\n",
    "    delta2 = hidden_2 * (1 - hidden_2) * np.matmul(delta3, w3)\n",
    "\n",
    "    # 第1層權重delta計算\n",
    "    delta1 = hidden_1 * (1 - hidden_1) * np.matmul(delta2, w2)\n",
    "\n",
    "    # 第3層權重修正\n",
    "    w3_old = w3.copy()\n",
    "    w3 += learning_rate * np.tensordot(delta3, hidden_2, axes = 0)\n",
    "\n",
    "    # 第2層權重修正\n",
    "    w2_old = w2.copy()\n",
    "    w2 += learning_rate * np.tensordot(delta2, hidden_1, axes = 0)\n",
    "\n",
    "    # 第1層權重修正\n",
    "    w_old = w.copy()\n",
    "    w += learning_rate * np.tensordot(delta1, input_, axes = 0)\n",
    "\n",
    "    t += 1\n",
    "\n",
    "    if t > 500000 or \\\n",
    "        (np.sum(abs(w3_old - w3)) + np.sum(abs(w2_old - w2)) + \\\n",
    "            np.sum(abs(w_old - w)) < 0.00001).all():\n",
    "        print('t=',t)\n",
    "        break"
   ]
  },
  {
   "cell_type": "code",
   "execution_count": 5,
   "metadata": {},
   "outputs": [],
   "source": [
    "test_mat = np.reshape(test_images, (test_size, test_images.shape[1]*test_images.shape[2])).T\n",
    "test_hidden_1 = sigmoid(np.matmul(w, test_mat))\n",
    "test_hidden_2 = sigmoid(np.matmul(w2, test_hidden_1))\n",
    "test_output_ = sigmoid(np.matmul(w3, test_hidden_2))"
   ]
  },
  {
   "cell_type": "code",
   "execution_count": 6,
   "metadata": {},
   "outputs": [
    {
     "data": {
      "text/plain": [
       "array([7., 2., 1., ..., 4., 5., 6.])"
      ]
     },
     "execution_count": 6,
     "metadata": {},
     "output_type": "execute_result"
    }
   ],
   "source": [
    "output_y = np.zeros(test_size)\n",
    "\n",
    "for i in range(test_size):\n",
    "    for j in range(10):\n",
    "        if test_output_.T[i, j] >= max(test_output_.T[i, ]):\n",
    "            output_y[i] = j\n",
    "\n",
    "#output_raw = np.round_(test_output_.T)\n",
    "#class_ = np.arange(10)\n",
    "#output_y = np.matmul(output_raw, class_)\n",
    "\n",
    "output_y"
   ]
  },
  {
   "cell_type": "code",
   "execution_count": 7,
   "metadata": {},
   "outputs": [
    {
     "data": {
      "text/plain": [
       "0.931"
      ]
     },
     "execution_count": 7,
     "metadata": {},
     "output_type": "execute_result"
    }
   ],
   "source": [
    "sum(test_labels == output_y)/test_size"
   ]
  },
  {
   "cell_type": "code",
   "execution_count": null,
   "metadata": {},
   "outputs": [],
   "source": [
    "# 結果寫入檔案"
   ]
  },
  {
   "cell_type": "code",
   "execution_count": null,
   "metadata": {},
   "outputs": [],
   "source": []
  },
  {
   "cell_type": "code",
   "execution_count": null,
   "metadata": {},
   "outputs": [],
   "source": []
  }
 ],
 "metadata": {
  "interpreter": {
   "hash": "c12704e1c6435aa4ab0b3d783d315df3349d0df855b0d34e39faaccf829af5a3"
  },
  "kernelspec": {
   "display_name": "Python 3.9.4 64-bit",
   "language": "python",
   "name": "python3"
  },
  "language_info": {
   "codemirror_mode": {
    "name": "ipython",
    "version": 3
   },
   "file_extension": ".py",
   "mimetype": "text/x-python",
   "name": "python",
   "nbconvert_exporter": "python",
   "pygments_lexer": "ipython3",
   "version": "3.9.4"
  },
  "orig_nbformat": 4
 },
 "nbformat": 4,
 "nbformat_minor": 2
}
