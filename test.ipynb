{
 "cells": [
  {
   "cell_type": "code",
   "execution_count": null,
   "metadata": {},
   "outputs": [],
   "source": [
    "# input_mat, ymat 設定"
   ]
  },
  {
   "cell_type": "code",
   "execution_count": 195,
   "metadata": {},
   "outputs": [],
   "source": [
    "import numpy as np\n",
    "import random\n",
    "\n",
    "def sigmoid(x):\n",
    "    return 1/(1 + np.exp(-x))\n",
    "\n",
    "random.seed(0)\n",
    "\n",
    "# 參數設定\n",
    "learning_rate = 0.2\n",
    "input_mat = np.array([[0, 0], [0, 1], [1, 0], [1, 1]]) #\n",
    "ymat = np.array([[0, 0, 1], [1, 1, 0], [1, 1, 1], [0, 0, 1]]) #\n",
    "\n",
    "n_in = input_mat.shape[1]\n",
    "n_hidden = 2 # 隱藏層共2個neuron\n",
    "n_out = ymat.shape[1]\n",
    "\n",
    "# 第1層權重初始值\n",
    "w = np.random.randn(n_hidden, n_in)\n",
    "# w = np.array([[0.1, 0.2], [-0.3, 0.1]])\n",
    "\n",
    "# 第2層權重初始值\n",
    "w2 = np.random.randn(n_out, n_hidden)\n",
    "# w2 = np.array([[0.7, -0.5], [-0.4, 0.2], [0.2, 0.3]])\n",
    "\n",
    "t = 0\n",
    "output_, y = ymat[0], ymat[0]+1\n",
    "\n",
    "while min(output_ == y) != True:\n",
    "    \n",
    "    input_ = input_mat[t % input_mat.shape[0]]\n",
    "    y = ymat[t % input_mat.shape[0]]\n",
    "\n",
    "    ### 正向傳播\n",
    "\n",
    "    # 計算output\n",
    "    hidden_ = sigmoid(np.matmul(w, input_))\n",
    "    output_ = sigmoid(np.matmul(w2, hidden_))\n",
    "\n",
    "\n",
    "    ### 誤差反向傳播\n",
    "\n",
    "    # 第2層權重delta計算\n",
    "    delta2 = (y - output_) * output_ * (1 - output_)\n",
    "\n",
    "    # 第1層權重delta計算\n",
    "    delta = hidden_ * (1 - hidden_) * np.matmul(delta2, w2)\n",
    "\n",
    "    # 第2層權重修正\n",
    "    w2 += learning_rate * np.tensordot(delta2, hidden_, axes = 0)\n",
    "\n",
    "    # 第1層權重修正\n",
    "    w += learning_rate * np.tensordot(delta, input_, axes = 0)\n",
    "\n",
    "    t += 1\n",
    "\n",
    "    if t > 10000:\n",
    "        break\n"
   ]
  },
  {
   "cell_type": "code",
   "execution_count": null,
   "metadata": {},
   "outputs": [],
   "source": [
    "# 結果寫入檔案"
   ]
  },
  {
   "cell_type": "code",
   "execution_count": null,
   "metadata": {},
   "outputs": [],
   "source": []
  },
  {
   "cell_type": "code",
   "execution_count": null,
   "metadata": {},
   "outputs": [],
   "source": []
  }
 ],
 "metadata": {
  "interpreter": {
   "hash": "c12704e1c6435aa4ab0b3d783d315df3349d0df855b0d34e39faaccf829af5a3"
  },
  "kernelspec": {
   "display_name": "Python 3.9.4 64-bit",
   "language": "python",
   "name": "python3"
  },
  "language_info": {
   "codemirror_mode": {
    "name": "ipython",
    "version": 3
   },
   "file_extension": ".py",
   "mimetype": "text/x-python",
   "name": "python",
   "nbconvert_exporter": "python",
   "pygments_lexer": "ipython3",
   "version": "3.9.4"
  },
  "orig_nbformat": 4
 },
 "nbformat": 4,
 "nbformat_minor": 2
}
